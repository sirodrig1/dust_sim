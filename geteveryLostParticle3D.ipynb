{
 "cells": [
  {
   "cell_type": "code",
   "execution_count": 1,
   "metadata": {},
   "outputs": [],
   "source": [
    "import h5py\n",
    "#import pylab as pl\n",
    "import numpy as np\n",
    "#import matplotlib as mpl\n",
    "import networkx\n",
    "import ipyvolume as ipv"
   ]
  },
  {
   "cell_type": "code",
   "execution_count": 2,
   "metadata": {},
   "outputs": [],
   "source": [
    "def split_unique_id(unique_id):\n",
    "    \"\"\"Splits the ids assign to the subhalos by the merger tree code by snap number and subfind number \"\"\"\n",
    "    subfind_number = int(unique_id % 1e6)\n",
    "    snap_number = int((unique_id - subfind_number) / 1e6)\n",
    "    \n",
    "    return snap_number, subfind_number\n",
    "\n",
    "def get_main_branch_unique_ids(subtree, node):\n",
    "    \"\"\"Gets the unique ids of the subhalos belonging to the main branch of the selected subhalo (node)\"\"\"\n",
    "    mpb = [node, ]\n",
    "    i = 0\n",
    "    while True:\n",
    "        succesors = list(subtree.successors(node))\n",
    "        if len(succesors) == 0:\n",
    "            break\n",
    "        node = succesors[0] # select only the first succesor (main branch)\n",
    "        mpb.append(node)\n",
    "        \n",
    "    return mpb"
   ]
  },
  {
   "cell_type": "code",
   "execution_count": 3,
   "metadata": {},
   "outputs": [],
   "source": [
    "sim = h5py.File('/data/cielo/simulations/LG1/LG1.hdf5', 'r')\n",
    "trees = networkx.read_multiline_adjlist('/data/cielo/simulations/LG1/LG1_tree.dat')"
   ]
  },
  {
   "cell_type": "code",
   "execution_count": 4,
   "metadata": {},
   "outputs": [],
   "source": [
    "def plotItIn3D(fofID, centralID):\n",
    "    uniqueID = int(127*1e6+fofID)\n",
    "    stree = networkx.dfs_tree(trees, str(uniqueID))\n",
    "    mtree = get_main_branch_unique_ids(stree, str(uniqueID))\n",
    "    \n",
    "    uniqueC = int(127*1e6+centralID)\n",
    "    streeC = networkx.dfs_tree(trees, str(uniqueC))\n",
    "    mtreeC = get_main_branch_unique_ids(streeC, str(uniqueC))\n",
    "    \n",
    "    # find all the particleIDs that once belong to the subgroup\n",
    "    Idlist, zlist = [], []\n",
    "\n",
    "    galH, cenH = [], []\n",
    "    \n",
    "    for mm, mmC in zip(mtree[1:], mtreeC[1:]): # ignore the first one\n",
    "        snap, idd = split_unique_id(int(mm))\n",
    "        snapC, iddC = split_unique_id(int(mmC))\n",
    "        tempOff = sim['SnapNumber_{}/SubGroups/PartType0/Offsets'.format(snap)][idd].astype('int')\n",
    "        pgal = sim['SnapNumber_{}/SubGroups/SubGroupPos'.format(snap)][idd]\n",
    "        if snapC==snap:\n",
    "            pcen = sim['SnapNumber_{}/SubGroups/SubGroupPos'.format(snapC)][iddC]\n",
    "        galH.append(pgal)\n",
    "        cenH.append(pcen)\n",
    "        if tempOff[0]>= 0 and tempOff[1]>=0:\n",
    "            tempIds = sim['SnapNumber_{}/PartType0/ParticleIDs'.format(snap)][tempOff[0]:tempOff[1]]\n",
    "            zt = sim['SnapNumber_{}/Header/Redshift'.format(snap)][()]\n",
    "            Idlist.extend(list(tempIds))\n",
    "            zlist.extend([zt]*tempIds.size)\n",
    "\n",
    "    Idlist, zlist = np.array(Idlist), np.array(zlist)\n",
    "    Idlist, Idunique = np.unique(Idlist, return_index=True) # remove duplicates\n",
    "    zlist = zlist[Idunique]\n",
    "\n",
    "    galH = np.array(galH)\n",
    "    cenH = np.array(cenH)\n",
    "    \n",
    "    # the total list of particles that once belong to a give subgroup, lest see where are today.\n",
    "    TdayOff = sim['SnapNumber_127/SubGroups/PartType0/Offsets'][fofID].astype('int')\n",
    "    TdayCoord = sim['SnapNumber_127/PartType0/Coordinates'][TdayOff[0]:TdayOff[1]]\n",
    "\n",
    "    TdayTotalIDs = sim['SnapNumber_127/PartType0/ParticleIDs'][()]\n",
    "    \n",
    "    IndexToday = np.in1d(TdayTotalIDs, Idlist)\n",
    "    IndexToday_ = np.where(IndexToday)[0]\n",
    "    \n",
    "    #remove the ones that are not part of the group today.\n",
    "    TdayIDs = sim['SnapNumber_127/PartType0/ParticleIDs'][TdayOff[0]:TdayOff[1]]\n",
    "\n",
    "    IndexNot = np.in1d(Idlist, TdayIDs)\n",
    "    IdNot = Idlist[np.where(IndexNot==False)[0]]\n",
    "\n",
    "    IndexT = np.in1d(TdayTotalIDs, IdNot)\n",
    "    IndexT_ = np.where(IndexT)[0]\n",
    "    LostCoord = sim['SnapNumber_127/PartType0/Coordinates'][IndexT_]\n",
    "\n",
    "    # ... and the redshift\n",
    "    SurvIds_ = TdayTotalIDs[IndexT_]\n",
    "    iidex = np.in1d(Idlist, SurvIds_)\n",
    "    iidex_ = np.where(iidex)[0]\n",
    "    zlist_, Idlist_ = zlist[iidex_], Idlist[iidex_]\n",
    "\n",
    "    is1 = np.argsort(SurvIds_) # the target\n",
    "    is2 = np.argsort(Idlist_)\n",
    "\n",
    "    zorder = np.zeros(IndexT_.size)\n",
    "    zorder[is1] = zlist_[is2]\n",
    "    \n",
    "    #now lets cut at  a certain distance\n",
    "    distance = 600 # distance in ckpc\n",
    "\n",
    "    posGal = sim['SnapNumber_127/SubGroups/SubGroupPos'][fofID]\n",
    "    posCen = sim['SnapNumber_127/SubGroups/SubGroupPos'][centralID]\n",
    "\n",
    "    dx, dy, dz = LostCoord[:,0]-posGal[0], LostCoord[:,1]-posGal[1], LostCoord[:,2]-posGal[2]\n",
    "    distToC = np.sqrt(dx**2+dy**2+dz**2)\n",
    "\n",
    "    icut = np.where(distToC<distance)[0]\n",
    "    IndexT_near = IndexT_[icut]\n",
    "    zorder_near = zorder[icut]\n",
    "    \n",
    "    NearCoord = sim['SnapNumber_127/PartType0/Coordinates'][IndexT_near]\n",
    "    \n",
    "    # ok, lest see velocity and stuff\n",
    "    velCen = sim['SnapNumber_128/SubGroups/SubGroupVel'][centralID]\n",
    "    velSat = sim['SnapNumber_128/SubGroups/SubGroupVel'][fofID]\n",
    "\n",
    "    cenRep = posGal - posCen\n",
    "\n",
    "    velRep = velSat - velCen\n",
    "    \n",
    "    xo, yo, zo = NearCoord[:,0], NearCoord[:,1], NearCoord[:,2]\n",
    "    xoC, yoC, zoC = xo - posCen[0], yo - posCen[1], zo - posCen[2]\n",
    "    velX, velY, velZ = velRep[0], velRep[1], velRep[2]\n",
    "\n",
    "    #cenPx, cenPy, cenPz = galH[:,0] - posCen[0], galH[:,1] - posCen[1], galH[:,2] - posCen[2]\n",
    "    cenPx, cenPy, cenPz = galH[:,0] - cenH[:,0], galH[:,1] - cenH[:,1], galH[:,2] - cenH[:,2]\n",
    "\n",
    "    nzbins = 4\n",
    "    # zlim = np.linspace(zorder_near.min(), zorder_near.max(), nzbins+1)\n",
    "    zli = np.percentile(zorder, [25, 50, 75, 100])\n",
    "    zlim = [0.]\n",
    "    zlim.extend(list(zli))\n",
    "    zlim = np.array(zlim)\n",
    "\n",
    "    for i in range(zlim.size):\n",
    "        zlim[i] = float(int(zlim[i]*10))/10\n",
    "    \n",
    "    colourlist = ['blue', 'green', 'orange', 'red']\n",
    "    \n",
    "    fig = ipv.figure(width=750, height=750)\n",
    "    \n",
    "    for zi, zm, colour in zip(zlim[:-1], zlim[1:], colourlist):\n",
    "        print(colour,'\\t:','{} < z < {}'.format(zi, zm))\n",
    "        i = np.where((zorder_near>zi) & (zorder_near<zm))\n",
    "        xoCT ,yoCT, zoCT = xoC[i], yoC[i], zoC[i]\n",
    "        scatter = ipv.scatter(xoCT, yoCT, zoC, marker='sphere', size=.25, color=colour)\n",
    "    \n",
    "    ipv.plot(cenPx, cenPy, cenPz, ls='--', color='black')\n",
    "    ipv.quiver(np.array([cenRep[0]]), np.array([cenRep[1]]), np.array([cenRep[2]]), np.array([velX]), np.array([velY]), np.array([velZ]), color='black', size=10)\n",
    "    #ipv.xlabel('x/(ckpc h^{-1})')\n",
    "    #ipv.ylabel('y/(ckpc h^{-1})')\n",
    "    #ipv.zlabel('z/(ckpc h^{-1})')\n",
    "    \n",
    "    ipv.show()"
   ]
  },
  {
   "cell_type": "code",
   "execution_count": 5,
   "metadata": {},
   "outputs": [
    {
     "name": "stdout",
     "output_type": "stream",
     "text": [
      "blue \t: 0.0 < z < 0.6\n",
      "green \t: 0.6 < z < 1.4\n",
      "orange \t: 1.4 < z < 2.3\n",
      "red \t: 2.3 < z < 8.4\n"
     ]
    },
    {
     "data": {
      "application/vnd.jupyter.widget-view+json": {
       "model_id": "c13c1579523e450797ea27f9e6a02714",
       "version_major": 2,
       "version_minor": 0
      },
      "text/plain": [
       "VBox(children=(Figure(camera_center=[0.0, 0.0, 0.0], height=750, matrix_projection=[0.0, 0.0, 0.0, 0.0, 0.0, 0…"
      ]
     },
     "metadata": {},
     "output_type": "display_data"
    }
   ],
   "source": [
    "plotItIn3D(33,32)"
   ]
  },
  {
   "cell_type": "code",
   "execution_count": 6,
   "metadata": {},
   "outputs": [
    {
     "name": "stdout",
     "output_type": "stream",
     "text": [
      "blue \t: 0.0 < z < 0.1\n",
      "green \t: 0.1 < z < 1.6\n",
      "orange \t: 1.6 < z < 1.8\n",
      "red \t: 1.8 < z < 8.8\n"
     ]
    },
    {
     "data": {
      "application/vnd.jupyter.widget-view+json": {
       "model_id": "081fe2ab19ae474581d601d8561ff718",
       "version_major": 2,
       "version_minor": 0
      },
      "text/plain": [
       "VBox(children=(Figure(camera_center=[0.0, 0.0, 0.0], height=750, matrix_projection=[0.0, 0.0, 0.0, 0.0, 0.0, 0…"
      ]
     },
     "metadata": {},
     "output_type": "display_data"
    }
   ],
   "source": [
    "plotItIn3D(35,32)"
   ]
  },
  {
   "cell_type": "code",
   "execution_count": 7,
   "metadata": {},
   "outputs": [
    {
     "name": "stdout",
     "output_type": "stream",
     "text": [
      "blue \t: 0.0 < z < 0.2\n",
      "green \t: 0.2 < z < 0.5\n",
      "orange \t: 0.5 < z < 0.7\n",
      "red \t: 0.7 < z < 9.8\n"
     ]
    },
    {
     "data": {
      "application/vnd.jupyter.widget-view+json": {
       "model_id": "76416daeeac043f18a9b775c482117f8",
       "version_major": 2,
       "version_minor": 0
      },
      "text/plain": [
       "VBox(children=(Figure(camera_center=[0.0, 0.0, 0.0], height=750, matrix_projection=[0.0, 0.0, 0.0, 0.0, 0.0, 0…"
      ]
     },
     "metadata": {},
     "output_type": "display_data"
    }
   ],
   "source": [
    "plotItIn3D(82,81)"
   ]
  },
  {
   "cell_type": "code",
   "execution_count": 8,
   "metadata": {},
   "outputs": [
    {
     "name": "stdout",
     "output_type": "stream",
     "text": [
      "blue \t: 0.0 < z < 0.9\n",
      "green \t: 0.9 < z < 1.3\n",
      "orange \t: 1.3 < z < 1.5\n",
      "red \t: 1.5 < z < 8.0\n"
     ]
    },
    {
     "data": {
      "application/vnd.jupyter.widget-view+json": {
       "model_id": "febc71a2f4914b4bb1f91282798241dc",
       "version_major": 2,
       "version_minor": 0
      },
      "text/plain": [
       "VBox(children=(Figure(camera_center=[0.0, 0.0, 0.0], height=750, matrix_projection=[0.0, 0.0, 0.0, 0.0, 0.0, 0…"
      ]
     },
     "metadata": {},
     "output_type": "display_data"
    }
   ],
   "source": [
    "plotItIn3D(85,81)"
   ]
  },
  {
   "cell_type": "code",
   "execution_count": null,
   "metadata": {},
   "outputs": [],
   "source": []
  }
 ],
 "metadata": {
  "kernelspec": {
   "display_name": "Python 3",
   "language": "python",
   "name": "python3"
  },
  "language_info": {
   "codemirror_mode": {
    "name": "ipython",
    "version": 3
   },
   "file_extension": ".py",
   "mimetype": "text/x-python",
   "name": "python",
   "nbconvert_exporter": "python",
   "pygments_lexer": "ipython3",
   "version": "3.8.1"
  }
 },
 "nbformat": 4,
 "nbformat_minor": 4
}
